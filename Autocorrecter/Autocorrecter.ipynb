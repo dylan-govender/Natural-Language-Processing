{
  "nbformat": 4,
  "nbformat_minor": 0,
  "metadata": {
    "colab": {
      "provenance": []
    },
    "kernelspec": {
      "name": "python3",
      "display_name": "Python 3"
    },
    "language_info": {
      "name": "python"
    }
  },
  "cells": [
    {
      "cell_type": "code",
      "execution_count": 1,
      "metadata": {
        "colab": {
          "base_uri": "https://localhost:8080/"
        },
        "id": "RNbDu4z-zn8q",
        "outputId": "9ba77dce-cc03-4eba-ae95-07828adada1a"
      },
      "outputs": [
        {
          "output_type": "stream",
          "name": "stderr",
          "text": [
            "[nltk_data] Downloading package words to /root/nltk_data...\n",
            "[nltk_data]   Unzipping corpora/words.zip.\n"
          ]
        }
      ],
      "source": [
        "import nltk\n",
        "from nltk.corpus import words\n",
        "from nltk.metrics.distance import (edit_distance, jaccard_distance)\n",
        "from nltk.util import ngrams\n",
        "nltk.download('words')\n",
        "import pandas"
      ]
    },
    {
      "cell_type": "code",
      "source": [
        "correct_spellings = words.words()\n",
        "spellings_series = pandas.Series(correct_spellings)\n",
        "print(spellings_series)"
      ],
      "metadata": {
        "colab": {
          "base_uri": "https://localhost:8080/"
        },
        "id": "z7W_AuJlz1jE",
        "outputId": "170b2719-9e9b-4a37-caa5-5fef35ca9905"
      },
      "execution_count": 2,
      "outputs": [
        {
          "output_type": "stream",
          "name": "stdout",
          "text": [
            "0                 A\n",
            "1                 a\n",
            "2                aa\n",
            "3               aal\n",
            "4             aalii\n",
            "            ...    \n",
            "236731       yellow\n",
            "236732          yes\n",
            "236733    yesterday\n",
            "236734          you\n",
            "236735        young\n",
            "Length: 236736, dtype: object\n"
          ]
        }
      ]
    },
    {
      "cell_type": "code",
      "source": [
        "def jaccard(entries, gram_number):\n",
        "\n",
        "    outcomes = []\n",
        "    for entry in entries: #iteratively for loop\n",
        "        spellings = spellings_series[spellings_series.str.startswith(entry[0])]\n",
        "        distances = ((jaccard_distance(set(ngrams(entry, gram_number)),\n",
        "                                       set(ngrams(word, gram_number))), word)\n",
        "                     for word in spellings)\n",
        "        closest = min(distances)\n",
        "        outcomes.append(closest[1])\n",
        "    return outcomes"
      ],
      "metadata": {
        "id": "9b-W8lZM0ATx"
      },
      "execution_count": 3,
      "outputs": []
    },
    {
      "cell_type": "code",
      "source": [
        "def JDreco(entries=['cormulent', 'incendenece', 'validrate']):\n",
        "    \"\"\"finds the closest word based on jaccard distance\"\"\"\n",
        "    return jaccard(entries, 3)\n",
        "print(JDreco())"
      ],
      "metadata": {
        "colab": {
          "base_uri": "https://localhost:8080/"
        },
        "id": "6aDg9GPb0FWD",
        "outputId": "4d2545e1-cc15-4744-9971-6b760ced3d36"
      },
      "execution_count": 4,
      "outputs": [
        {
          "output_type": "stream",
          "name": "stdout",
          "text": [
            "['corpulent', 'indecence', 'validate']\n"
          ]
        }
      ]
    },
    {
      "cell_type": "code",
      "source": [
        "def editreco(entries=['cormulent', 'incendenece', 'validrate']):\n",
        "\n",
        "    outcomes = []\n",
        "    for entry in entries:\n",
        "        distances = ((edit_distance(entry,\n",
        "                                    word), word)\n",
        "                     for word in correct_spellings)\n",
        "        closest = min(distances)\n",
        "        outcomes.append(closest[1])\n",
        "    return outcomes\n",
        "\n",
        "editreco()"
      ],
      "metadata": {
        "colab": {
          "base_uri": "https://localhost:8080/"
        },
        "id": "PKP0OSME0NaX",
        "outputId": "e1149cf9-67ff-4401-a435-da5eccfa2ef0"
      },
      "execution_count": 5,
      "outputs": [
        {
          "output_type": "execute_result",
          "data": {
            "text/plain": [
              "['corpulent', 'intendence', 'validate']"
            ]
          },
          "metadata": {},
          "execution_count": 5
        }
      ]
    },
    {
      "cell_type": "code",
      "source": [
        "userinput = []\n",
        "for i in range(0,3):\n",
        "    word = input(\"Terrible Spelling \" + str(i + 1) + \": \")\n",
        "    userinput.append(word)\n",
        "\n",
        "print(userinput)\n",
        "JDreco(userinput)\n",
        "editreco(userinput)"
      ],
      "metadata": {
        "colab": {
          "base_uri": "https://localhost:8080/"
        },
        "id": "UW6qH42X0R-P",
        "outputId": "eea7e19b-4826-4fc0-89d5-c5b0bf357b0a"
      },
      "execution_count": 6,
      "outputs": [
        {
          "output_type": "stream",
          "name": "stdout",
          "text": [
            "Terrible Spelling 1: Palease\n",
            "Terrible Spelling 2: lastinguish\n",
            "Terrible Spelling 3: Hawty\n",
            "['Palease', 'lastinguish', 'Hawty']\n"
          ]
        },
        {
          "output_type": "execute_result",
          "data": {
            "text/plain": [
              "['malease', 'distinguish', 'Hatty']"
            ]
          },
          "metadata": {},
          "execution_count": 6
        }
      ]
    }
  ]
}
